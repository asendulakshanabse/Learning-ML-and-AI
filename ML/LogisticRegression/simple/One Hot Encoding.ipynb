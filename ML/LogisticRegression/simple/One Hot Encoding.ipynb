{
 "cells": [
  {
   "cell_type": "code",
   "id": "initial_id",
   "metadata": {
    "collapsed": true,
    "ExecuteTime": {
     "end_time": "2024-12-01T11:28:08.386528Z",
     "start_time": "2024-12-01T11:28:07.449242Z"
    }
   },
   "source": [
    "import pandas as pd\n",
    "from scipy.special import result"
   ],
   "outputs": [],
   "execution_count": 1
  },
  {
   "metadata": {
    "ExecuteTime": {
     "end_time": "2024-12-01T11:28:23.130748Z",
     "start_time": "2024-12-01T11:28:23.076672Z"
    }
   },
   "cell_type": "code",
   "source": "data = pd.read_csv('students.csv')",
   "id": "dc10bcc3e3e01313",
   "outputs": [],
   "execution_count": 2
  },
  {
   "metadata": {
    "ExecuteTime": {
     "end_time": "2024-12-01T11:30:22.973401Z",
     "start_time": "2024-12-01T11:30:22.952870Z"
    }
   },
   "cell_type": "code",
   "source": "data['result']",
   "id": "5b2bde3a8bf32393",
   "outputs": [
    {
     "data": {
      "text/plain": [
       "0      pass\n",
       "1      fail\n",
       "2      pass\n",
       "3      pass\n",
       "4    absent\n",
       "5      fail\n",
       "6      fail\n",
       "7      pass\n",
       "8      pass\n",
       "9    absent\n",
       "Name: result, dtype: object"
      ]
     },
     "execution_count": 3,
     "metadata": {},
     "output_type": "execute_result"
    }
   ],
   "execution_count": 3
  },
  {
   "metadata": {
    "ExecuteTime": {
     "end_time": "2024-12-01T11:31:09.563644Z",
     "start_time": "2024-12-01T11:31:09.555913Z"
    }
   },
   "cell_type": "code",
   "source": "result_category = data['result']",
   "id": "ccc0548db2c0483a",
   "outputs": [],
   "execution_count": 4
  },
  {
   "metadata": {
    "ExecuteTime": {
     "end_time": "2024-12-01T11:33:25.660240Z",
     "start_time": "2024-12-01T11:33:23.873424Z"
    }
   },
   "cell_type": "code",
   "source": [
    "from sklearn.preprocessing import LabelEncoder\n",
    "obj = LabelEncoder()\n",
    "result = obj.fit_transform(result_category)"
   ],
   "id": "6feb3ef1107de105",
   "outputs": [],
   "execution_count": 5
  },
  {
   "metadata": {
    "ExecuteTime": {
     "end_time": "2024-12-01T11:35:13.633214Z",
     "start_time": "2024-12-01T11:35:13.625104Z"
    }
   },
   "cell_type": "code",
   "source": "result",
   "id": "bc33d71d685e3af",
   "outputs": [
    {
     "data": {
      "text/plain": [
       "array([2, 1, 2, 2, 0, 1, 1, 2, 2, 0])"
      ]
     },
     "execution_count": 7,
     "metadata": {},
     "output_type": "execute_result"
    }
   ],
   "execution_count": 7
  },
  {
   "metadata": {
    "ExecuteTime": {
     "end_time": "2024-12-01T11:35:18.197733Z",
     "start_time": "2024-12-01T11:35:18.129290Z"
    }
   },
   "cell_type": "code",
   "source": [
    "from sklearn.preprocessing import LabelBinarizer\n",
    "obj = LabelBinarizer()\n",
    "result = obj.fit_transform(result_category)"
   ],
   "id": "8b08b3eba663ed2a",
   "outputs": [],
   "execution_count": 9
  },
  {
   "metadata": {
    "ExecuteTime": {
     "end_time": "2024-12-01T11:35:19.723301Z",
     "start_time": "2024-12-01T11:35:19.716723Z"
    }
   },
   "cell_type": "code",
   "source": "result",
   "id": "4e6dd72e94b26960",
   "outputs": [
    {
     "data": {
      "text/plain": [
       "array([[0, 0, 1],\n",
       "       [0, 1, 0],\n",
       "       [0, 0, 1],\n",
       "       [0, 0, 1],\n",
       "       [1, 0, 0],\n",
       "       [0, 1, 0],\n",
       "       [0, 1, 0],\n",
       "       [0, 0, 1],\n",
       "       [0, 0, 1],\n",
       "       [1, 0, 0]])"
      ]
     },
     "execution_count": 10,
     "metadata": {},
     "output_type": "execute_result"
    }
   ],
   "execution_count": 10
  },
  {
   "metadata": {
    "ExecuteTime": {
     "end_time": "2024-12-01T11:35:48.823049Z",
     "start_time": "2024-12-01T11:35:48.811245Z"
    }
   },
   "cell_type": "code",
   "source": "obj.classes_",
   "id": "dc5b4587a9566bbd",
   "outputs": [
    {
     "data": {
      "text/plain": [
       "array(['absent', 'fail', 'pass'], dtype='<U6')"
      ]
     },
     "execution_count": 11,
     "metadata": {},
     "output_type": "execute_result"
    }
   ],
   "execution_count": 11
  },
  {
   "metadata": {
    "ExecuteTime": {
     "end_time": "2024-12-01T12:12:22.410249Z",
     "start_time": "2024-12-01T12:12:22.386894Z"
    }
   },
   "cell_type": "code",
   "source": [
    "from sklearn.preprocessing import OneHotEncoder\n",
    "\n",
    "# Sample Data\n",
    "data = [['Red'], ['Green'], ['Blue'], ['Red']]\n",
    "\n",
    "# One Hot Encoding\n",
    "encoder = OneHotEncoder()\n",
    "encoded_data = encoder.fit_transform(data).toarray()\n",
    "\n",
    "# Feature Names\n",
    "print(encoder.get_feature_names_out())\n",
    "print(encoded_data)\n"
   ],
   "id": "9001e2d05dfa7c86",
   "outputs": [
    {
     "name": "stdout",
     "output_type": "stream",
     "text": [
      "['x0_Blue' 'x0_Green' 'x0_Red']\n",
      "[[0. 0. 1.]\n",
      " [0. 1. 0.]\n",
      " [1. 0. 0.]\n",
      " [0. 0. 1.]]\n"
     ]
    }
   ],
   "execution_count": 12
  }
 ],
 "metadata": {
  "kernelspec": {
   "display_name": "Python 3",
   "language": "python",
   "name": "python3"
  },
  "language_info": {
   "codemirror_mode": {
    "name": "ipython",
    "version": 2
   },
   "file_extension": ".py",
   "mimetype": "text/x-python",
   "name": "python",
   "nbconvert_exporter": "python",
   "pygments_lexer": "ipython2",
   "version": "2.7.6"
  }
 },
 "nbformat": 4,
 "nbformat_minor": 5
}
