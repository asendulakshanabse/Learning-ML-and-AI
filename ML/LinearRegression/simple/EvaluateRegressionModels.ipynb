{
 "cells": [
  {
   "cell_type": "code",
   "id": "initial_id",
   "metadata": {
    "collapsed": true,
    "ExecuteTime": {
     "end_time": "2024-11-30T15:36:08.302368Z",
     "start_time": "2024-11-30T15:36:07.533549Z"
    }
   },
   "source": [
    "import numpy as np\n",
    "import pandas as pd"
   ],
   "outputs": [],
   "execution_count": 1
  },
  {
   "metadata": {
    "ExecuteTime": {
     "end_time": "2024-11-30T15:39:02.972826Z",
     "start_time": "2024-11-30T15:39:02.947021Z"
    }
   },
   "cell_type": "code",
   "source": [
    "df = pd.DataFrame({\n",
    "    'hours': [8,11,9,5,7.5,9.5,10,7,9,9.5,8,10.5,9,6.5,9],\n",
    "    'score': [56,70,51,24,30,66,48,36,42,61,39,87,73,48,46]\n",
    "})"
   ],
   "id": "6d4fe5861859ca01",
   "outputs": [],
   "execution_count": 2
  },
  {
   "metadata": {
    "ExecuteTime": {
     "end_time": "2024-11-30T15:39:43.546624Z",
     "start_time": "2024-11-30T15:39:43.536493Z"
    }
   },
   "cell_type": "code",
   "source": "y = np.array(df.score.values)",
   "id": "8f737f37f1266f93",
   "outputs": [],
   "execution_count": 3
  },
  {
   "metadata": {
    "ExecuteTime": {
     "end_time": "2024-11-30T15:40:08.453437Z",
     "start_time": "2024-11-30T15:40:08.437579Z"
    }
   },
   "cell_type": "code",
   "source": "y_pred = 8 * df.hours.values - 15",
   "id": "d93f9cf06733a1d2",
   "outputs": [],
   "execution_count": 4
  },
  {
   "metadata": {
    "ExecuteTime": {
     "end_time": "2024-11-30T15:43:27.492083Z",
     "start_time": "2024-11-30T15:43:25.862288Z"
    }
   },
   "cell_type": "code",
   "source": [
    "# mean absolute error (MAE)\n",
    "from sklearn.metrics import mean_absolute_error\n",
    "mea = mean_absolute_error(y, y_pred)\n",
    "print(f\"mean absolute error: {mea}\")"
   ],
   "id": "af205c1b19c117c8",
   "outputs": [
    {
     "name": "stdout",
     "output_type": "stream",
     "text": [
      "mean absolute error: 9.333333333333334\n"
     ]
    }
   ],
   "execution_count": 5
  },
  {
   "metadata": {
    "ExecuteTime": {
     "end_time": "2024-11-30T15:43:29.560338Z",
     "start_time": "2024-11-30T15:43:29.552800Z"
    }
   },
   "cell_type": "code",
   "source": [
    "# root mean squared error (RMSE)\n",
    "from sklearn.metrics import root_mean_squared_error\n",
    "rmse = root_mean_squared_error(y, y_pred)\n",
    "print(f\"root mean squared error: {rmse}\")"
   ],
   "id": "81aed8c743e23f6",
   "outputs": [
    {
     "name": "stdout",
     "output_type": "stream",
     "text": [
      "root mean squared error: 10.972693379476162\n"
     ]
    }
   ],
   "execution_count": 6
  },
  {
   "metadata": {
    "ExecuteTime": {
     "end_time": "2024-11-30T15:45:14.957925Z",
     "start_time": "2024-11-30T15:45:14.947156Z"
    }
   },
   "cell_type": "code",
   "source": [
    "# R squared\n",
    "from sklearn.metrics import r2_score\n",
    "r2 = r2_score(y, y_pred)\n",
    "print(f\"R2 score {r2}\")"
   ],
   "id": "cd0602ecfa7b37",
   "outputs": [
    {
     "name": "stdout",
     "output_type": "stream",
     "text": [
      "R2 score 0.5642312518096708\n"
     ]
    }
   ],
   "execution_count": 7
  }
 ],
 "metadata": {
  "kernelspec": {
   "display_name": "Python 3",
   "language": "python",
   "name": "python3"
  },
  "language_info": {
   "codemirror_mode": {
    "name": "ipython",
    "version": 2
   },
   "file_extension": ".py",
   "mimetype": "text/x-python",
   "name": "python",
   "nbconvert_exporter": "python",
   "pygments_lexer": "ipython2",
   "version": "2.7.6"
  }
 },
 "nbformat": 4,
 "nbformat_minor": 5
}
