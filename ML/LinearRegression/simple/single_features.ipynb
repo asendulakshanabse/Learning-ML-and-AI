{
 "cells": [
  {
   "cell_type": "code",
   "id": "initial_id",
   "metadata": {
    "collapsed": true
   },
   "source": [
    "# import all the libraries\n",
    "import numpy as np\n",
    "import pandas as pd\n",
    "import matplotlib.pyplot as plt\n",
    "from matplotlib.pyplot import xlabel, ylabel\n",
    "from sklearn.linear_model import LinearRegression"
   ],
   "outputs": [],
   "execution_count": null
  },
  {
   "metadata": {},
   "cell_type": "code",
   "source": [
    "# read the data\n",
    "data = pd.read_csv('Book1.csv')"
   ],
   "id": "5f6403ad5e73cb61",
   "outputs": [],
   "execution_count": null
  },
  {
   "metadata": {},
   "cell_type": "code",
   "source": "data",
   "id": "4b454e188fff2f57",
   "outputs": [],
   "execution_count": null
  },
  {
   "metadata": {},
   "cell_type": "code",
   "source": [
    "# plot the data\n",
    "plt.scatter(data.videos, data.views, color='red')\n",
    "plt.xlabel(\"videos\")\n",
    "plt.ylabel(\"views\")"
   ],
   "id": "27477834a5eb89d9",
   "outputs": [],
   "execution_count": null
  },
  {
   "metadata": {},
   "cell_type": "code",
   "source": "data.views",
   "id": "64c99d9877bbc3cf",
   "outputs": [],
   "execution_count": null
  },
  {
   "metadata": {},
   "cell_type": "code",
   "source": "data.videos",
   "id": "5a7decafdce6404e",
   "outputs": [],
   "execution_count": null
  },
  {
   "metadata": {},
   "cell_type": "code",
   "source": [
    "X = np.array(data.videos.values)\n",
    "X"
   ],
   "id": "afb91964f04ebf6f",
   "outputs": [],
   "execution_count": null
  },
  {
   "metadata": {},
   "cell_type": "code",
   "source": [
    "y = np.array(data.views.values)\n",
    "y"
   ],
   "id": "98eae02f948f73bc",
   "outputs": [],
   "execution_count": null
  },
  {
   "metadata": {},
   "cell_type": "code",
   "source": [
    "# train the model\n",
    "# give data as 2d arrays\n",
    "model = LinearRegression()\n",
    "model.fit(X.reshape(-1,1), y)"
   ],
   "id": "b73e586c575846cc",
   "outputs": [],
   "execution_count": null
  },
  {
   "metadata": {},
   "cell_type": "code",
   "source": [
    "new_x = np.array([45]).reshape((-1, 1))\n",
    "new_x"
   ],
   "id": "2e8f78304c20a35c",
   "outputs": [],
   "execution_count": null
  },
  {
   "metadata": {},
   "cell_type": "code",
   "source": [
    "# make predictions\n",
    "pred = model.predict(new_x)\n",
    "pred"
   ],
   "id": "fe9fd92786d9c0aa",
   "outputs": [],
   "execution_count": null
  },
  {
   "metadata": {},
   "cell_type": "code",
   "source": [
    "# plot the data and result\n",
    "plt.scatter(data.videos, data.views, color='red')\n",
    "w,b = np.polyfit(X,y,1)\n",
    "print(f\"w: {w}, b: {b}\")\n",
    "y = w*X+b\n",
    "plt.plot(X, y)\n",
    "plt.xlabel(\"videos\")\n",
    "plt.ylabel(\"views\")"
   ],
   "id": "4b0459cfb4625145",
   "outputs": [],
   "execution_count": null
  }
 ],
 "metadata": {
  "kernelspec": {
   "display_name": "Python 3",
   "language": "python",
   "name": "python3"
  },
  "language_info": {
   "codemirror_mode": {
    "name": "ipython",
    "version": 2
   },
   "file_extension": ".py",
   "mimetype": "text/x-python",
   "name": "python",
   "nbconvert_exporter": "python",
   "pygments_lexer": "ipython2",
   "version": "2.7.6"
  }
 },
 "nbformat": 4,
 "nbformat_minor": 5
}
