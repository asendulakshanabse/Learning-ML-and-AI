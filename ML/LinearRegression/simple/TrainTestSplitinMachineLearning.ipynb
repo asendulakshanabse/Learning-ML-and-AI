{
 "cells": [
  {
   "cell_type": "code",
   "id": "initial_id",
   "metadata": {
    "collapsed": true,
    "ExecuteTime": {
     "end_time": "2024-11-30T12:10:11.939689Z",
     "start_time": "2024-11-30T12:09:51.395757Z"
    }
   },
   "source": [
    "import numpy as np\n",
    "from sklearn.model_selection import train_test_split"
   ],
   "outputs": [],
   "execution_count": 1
  },
  {
   "metadata": {
    "ExecuteTime": {
     "end_time": "2024-11-30T12:18:35.574844Z",
     "start_time": "2024-11-30T12:18:35.568338Z"
    }
   },
   "cell_type": "code",
   "source": [
    "x = []\n",
    "for i in range(100):\n",
    "    x.append(i)\n",
    "\n",
    "X = np.array(x)"
   ],
   "id": "ef2e3d714be1a80b",
   "outputs": [],
   "execution_count": 8
  },
  {
   "metadata": {
    "ExecuteTime": {
     "end_time": "2024-11-30T12:24:17.887408Z",
     "start_time": "2024-11-30T12:24:17.851795Z"
    }
   },
   "cell_type": "code",
   "source": "Y = np.random.randint(2, size=100)",
   "id": "2c8cc243a14ec1c9",
   "outputs": [],
   "execution_count": 13
  },
  {
   "metadata": {
    "ExecuteTime": {
     "end_time": "2024-11-30T12:24:20.517317Z",
     "start_time": "2024-11-30T12:24:20.508944Z"
    }
   },
   "cell_type": "code",
   "source": "X_train, X_test, Y_train, Y_test = train_test_split(X, Y, test_size=0.2)",
   "id": "83a96b0299a06499",
   "outputs": [],
   "execution_count": 14
  },
  {
   "metadata": {
    "ExecuteTime": {
     "end_time": "2024-11-30T12:25:01.232469Z",
     "start_time": "2024-11-30T12:25:01.218782Z"
    }
   },
   "cell_type": "code",
   "source": "X_train, len(X_train)",
   "id": "d2173f384186632e",
   "outputs": [
    {
     "data": {
      "text/plain": [
       "(array([89, 12, 90,  7, 47, 14, 98, 36, 58, 67,  8, 28, 29, 75, 60, 82, 16,\n",
       "        91, 51, 33, 43, 76, 48, 19, 27, 17, 62, 73, 31, 87, 39, 49, 41, 46,\n",
       "        30, 77, 42, 63,  5, 23, 85, 72,  0, 32, 94, 18, 54, 81, 65, 69, 52,\n",
       "         9, 95, 35, 93, 68, 84, 66, 13,  1, 20, 64, 22, 38, 21,  4,  3, 78,\n",
       "        99, 88, 50, 44, 96,  2, 70, 11, 40, 83, 71, 55]),\n",
       " 80)"
      ]
     },
     "execution_count": 16,
     "metadata": {},
     "output_type": "execute_result"
    }
   ],
   "execution_count": 16
  },
  {
   "metadata": {
    "ExecuteTime": {
     "end_time": "2024-11-30T12:25:03.303913Z",
     "start_time": "2024-11-30T12:25:03.295636Z"
    }
   },
   "cell_type": "code",
   "source": "Y_train, len(Y_train)",
   "id": "faa3967a0df0177",
   "outputs": [
    {
     "data": {
      "text/plain": [
       "(array([0, 1, 0, 0, 1, 0, 1, 1, 0, 1, 0, 1, 0, 1, 0, 0, 1, 1, 0, 0, 1, 1,\n",
       "        1, 1, 1, 1, 0, 1, 1, 1, 1, 1, 1, 1, 1, 0, 0, 0, 1, 1, 1, 1, 0, 0,\n",
       "        0, 0, 1, 1, 0, 1, 0, 1, 0, 1, 1, 0, 1, 0, 0, 0, 1, 0, 0, 0, 1, 1,\n",
       "        1, 1, 0, 0, 0, 0, 0, 1, 0, 1, 0, 0, 1, 1], dtype=int32),\n",
       " 80)"
      ]
     },
     "execution_count": 17,
     "metadata": {},
     "output_type": "execute_result"
    }
   ],
   "execution_count": 17
  },
  {
   "metadata": {
    "ExecuteTime": {
     "end_time": "2024-11-30T12:25:10.541190Z",
     "start_time": "2024-11-30T12:25:10.532764Z"
    }
   },
   "cell_type": "code",
   "source": "X_test, len(X_test)",
   "id": "7248ade0fada4374",
   "outputs": [
    {
     "data": {
      "text/plain": [
       "(array([79, 57, 56, 97, 74,  6, 15, 53, 37, 59, 26, 25, 45, 24, 92, 86, 80,\n",
       "        61, 10, 34]),\n",
       " 20)"
      ]
     },
     "execution_count": 18,
     "metadata": {},
     "output_type": "execute_result"
    }
   ],
   "execution_count": 18
  },
  {
   "metadata": {
    "ExecuteTime": {
     "end_time": "2024-11-30T12:25:14.808907Z",
     "start_time": "2024-11-30T12:25:14.800351Z"
    }
   },
   "cell_type": "code",
   "source": "Y_test, len(Y_test)",
   "id": "df11ad4b6f2198bd",
   "outputs": [
    {
     "data": {
      "text/plain": [
       "(array([1, 0, 0, 1, 0, 0, 0, 0, 0, 1, 0, 1, 1, 0, 0, 1, 1, 0, 0, 1],\n",
       "       dtype=int32),\n",
       " 20)"
      ]
     },
     "execution_count": 19,
     "metadata": {},
     "output_type": "execute_result"
    }
   ],
   "execution_count": 19
  }
 ],
 "metadata": {
  "kernelspec": {
   "display_name": "Python 3",
   "language": "python",
   "name": "python3"
  },
  "language_info": {
   "codemirror_mode": {
    "name": "ipython",
    "version": 2
   },
   "file_extension": ".py",
   "mimetype": "text/x-python",
   "name": "python",
   "nbconvert_exporter": "python",
   "pygments_lexer": "ipython2",
   "version": "2.7.6"
  }
 },
 "nbformat": 4,
 "nbformat_minor": 5
}
