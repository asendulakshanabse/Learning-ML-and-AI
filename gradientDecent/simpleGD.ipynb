{
 "cells": [
  {
   "cell_type": "code",
   "id": "initial_id",
   "metadata": {
    "collapsed": true,
    "ExecuteTime": {
     "end_time": "2024-12-13T15:52:32.792436Z",
     "start_time": "2024-12-13T15:52:32.787468Z"
    }
   },
   "source": [
    "def f(x):\n",
    "    return (x - 3) ** 2"
   ],
   "outputs": [],
   "execution_count": 8
  },
  {
   "metadata": {
    "ExecuteTime": {
     "end_time": "2024-12-13T15:52:32.836315Z",
     "start_time": "2024-12-13T15:52:32.829333Z"
    }
   },
   "cell_type": "code",
   "source": [
    "def gradient(x):\n",
    "    return 2 * (x - 3)"
   ],
   "id": "eb3595a53729a4aa",
   "outputs": [],
   "execution_count": 9
  },
  {
   "metadata": {
    "ExecuteTime": {
     "end_time": "2024-12-13T15:55:35.525875Z",
     "start_time": "2024-12-13T15:55:35.513908Z"
    }
   },
   "cell_type": "code",
   "source": [
    "def gradient_descent(start_x, learning_rate, num_iterations):\n",
    "    x = start_x  # Initial guess\n",
    "    for i in range(num_iterations):\n",
    "         grad = gradient(x) # compute gradient\n",
    "         x = x - learning_rate * grad # update x\n",
    "         print(f\"Iteration {i+1}: x = {x:.4f}, f(x) = {f(x):.4f}\")\n",
    "         return x\n",
    "         \n",
    "# Parameters\n",
    "start_x = 20 # Initial guess\n",
    "learning_rate = 0.01\n",
    "num_iterations = 20\n",
    "\n",
    "# Run Gradient Descent\n",
    "optimal_x = gradient_descent(start_x, learning_rate, num_iterations)\n",
    "print(f\"Optimal x: {optimal_x}\")"
   ],
   "id": "53fdf882f1cac9c5",
   "outputs": [
    {
     "name": "stdout",
     "output_type": "stream",
     "text": [
      "Iteration 1: x = 19.6600, f(x) = 277.5556\n",
      "Optimal x: 19.66\n"
     ]
    }
   ],
   "execution_count": 12
  },
  {
   "metadata": {
    "ExecuteTime": {
     "end_time": "2024-12-13T15:52:33.064842Z",
     "start_time": "2024-12-13T15:52:33.055347Z"
    }
   },
   "cell_type": "code",
   "source": "",
   "id": "4c9a0531ae8904ea",
   "outputs": [],
   "execution_count": null
  }
 ],
 "metadata": {
  "kernelspec": {
   "display_name": "Python 3",
   "language": "python",
   "name": "python3"
  },
  "language_info": {
   "codemirror_mode": {
    "name": "ipython",
    "version": 2
   },
   "file_extension": ".py",
   "mimetype": "text/x-python",
   "name": "python",
   "nbconvert_exporter": "python",
   "pygments_lexer": "ipython2",
   "version": "2.7.6"
  }
 },
 "nbformat": 4,
 "nbformat_minor": 5
}
